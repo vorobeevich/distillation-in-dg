{
 "cells": [
  {
   "cell_type": "code",
   "execution_count": 2,
   "metadata": {},
   "outputs": [
    {
     "data": {
      "text/plain": [
       "['00001.jpg',\n",
       " '00002.jpg',\n",
       " '00003.jpg',\n",
       " '00004.jpg',\n",
       " '00005.jpg',\n",
       " '00006.jpg',\n",
       " '00007.jpg',\n",
       " '00008.jpg',\n",
       " '00009.jpg',\n",
       " '00010.jpg',\n",
       " '00011.jpg',\n",
       " '00012.jpg',\n",
       " '00013.jpg',\n",
       " '00014.jpg',\n",
       " '00015.jpg',\n",
       " '00016.jpg',\n",
       " '00017.jpg',\n",
       " '00018.jpg',\n",
       " '00019.jpg',\n",
       " '00020.jpg',\n",
       " '00021.jpg',\n",
       " '00022.jpg',\n",
       " '00023.jpg',\n",
       " '00024.jpg',\n",
       " '00025.jpg',\n",
       " '00026.jpg',\n",
       " '00027.jpg',\n",
       " '00028.jpg',\n",
       " '00029.jpg',\n",
       " '00030.jpg',\n",
       " '00031.jpg',\n",
       " '00032.jpg',\n",
       " '00033.jpg',\n",
       " '00034.jpg',\n",
       " '00035.jpg',\n",
       " '00036.jpg',\n",
       " '00037.jpg',\n",
       " '00038.jpg',\n",
       " '00039.jpg',\n",
       " '00040.jpg',\n",
       " '00041.jpg',\n",
       " '00042.jpg',\n",
       " '00043.jpg',\n",
       " '00044.jpg',\n",
       " '00045.jpg',\n",
       " '00046.jpg',\n",
       " '00047.jpg',\n",
       " '00048.jpg',\n",
       " '00049.jpg',\n",
       " '00050.jpg',\n",
       " '00051.jpg',\n",
       " '00052.jpg',\n",
       " '00053.jpg',\n",
       " '00054.jpg',\n",
       " '00055.jpg',\n",
       " '00056.jpg',\n",
       " '00057.jpg',\n",
       " '00058.jpg',\n",
       " '00059.jpg',\n",
       " '00060.jpg',\n",
       " '00061.jpg',\n",
       " '00062.jpg',\n",
       " '00063.jpg',\n",
       " '00064.jpg',\n",
       " '00065.jpg',\n",
       " '00066.jpg',\n",
       " '00067.jpg',\n",
       " '00068.jpg',\n",
       " '00069.jpg',\n",
       " '00070.jpg',\n",
       " '00071.jpg',\n",
       " '00072.jpg',\n",
       " '00073.jpg',\n",
       " '00074.jpg']"
      ]
     },
     "execution_count": 2,
     "metadata": {},
     "output_type": "execute_result"
    }
   ],
   "source": [
    "import os \n",
    "\n",
    "os.listdir(\"data/office_home/images/Art/Alarm_Clock/\")"
   ]
  },
  {
   "cell_type": "code",
   "execution_count": null,
   "metadata": {},
   "outputs": [],
   "source": []
  }
 ],
 "metadata": {
  "kernelspec": {
   "display_name": "dl",
   "language": "python",
   "name": "python3"
  },
  "language_info": {
   "codemirror_mode": {
    "name": "ipython",
    "version": 3
   },
   "file_extension": ".py",
   "mimetype": "text/x-python",
   "name": "python",
   "nbconvert_exporter": "python",
   "pygments_lexer": "ipython3",
   "version": "3.10.9"
  },
  "orig_nbformat": 4
 },
 "nbformat": 4,
 "nbformat_minor": 2
}
