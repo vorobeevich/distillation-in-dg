{
 "cells": [
  {
   "cell_type": "code",
   "execution_count": 21,
   "metadata": {},
   "outputs": [],
   "source": [
    "import torch.utils.data\n",
    "import torch.nn.functional as F\n",
    "import torch.nn as nn\n",
    "import torchvision\n",
    "\n",
    "import src.datasets.PACS_dataset\n",
    "from src.utils.init_functions import init_object\n",
    "from src.swad.swa_utils import AveragedModel"
   ]
  },
  {
   "cell_type": "code",
   "execution_count": 22,
   "metadata": {},
   "outputs": [],
   "source": [
    "def check(model, loader):\n",
    "    with torch.inference_mode():\n",
    "        model.eval()\n",
    "        accuracy = 0\n",
    "        pbar = loader\n",
    "        for batch in pbar:\n",
    "            images, labels = batch[\"image\"], batch[\"label\"]\n",
    "            images, labels = images.to(\n",
    "                \"cuda\").float(), labels.to(\n",
    "                \"cuda\").long()\n",
    "            logits = model(images)\n",
    "            ids = F.softmax(logits, dim=-1).argmax(dim=-1)\n",
    "            batch_true = (ids == labels).sum()\n",
    "            accuracy += batch_true.item()\n",
    "\n",
    "        return accuracy / len(loader.dataset)"
   ]
  },
  {
   "cell_type": "code",
   "execution_count": 23,
   "metadata": {},
   "outputs": [],
   "source": [
    "test_dataset = {\n",
    "    \"name\": \"PACS_dataset\",\n",
    "    \"kwargs\": {\n",
    "        \"domain_list\": [\"art_painting\", \"photo\", \"sketch\", \"cartoon\"],\n",
    "        \"transforms\": [\n",
    "                {\n",
    "                    \"name\": \"ToTensor\",\n",
    "                    \"kwargs\": {}\n",
    "                },\n",
    "                {  \n",
    "                    \"name\": \"Normalize\",\n",
    "                    \"kwargs\": {\n",
    "                        \"mean\": [0.5, 0.5, 0.5],\n",
    "                        \"std\": [0.5, 0.5, 0.5]\n",
    "                    }\n",
    "                }\n",
    "            ]\n",
    "    },\n",
    "}\n",
    "\n",
    "domains = test_dataset[\"kwargs\"][\"domain_list\"]\n",
    "test_domain = 0\n",
    "batch_size = 64"
   ]
  },
  {
   "cell_type": "code",
   "execution_count": 24,
   "metadata": {},
   "outputs": [],
   "source": [
    "test_dataset[\"kwargs\"][\"dataset_type\"] = [\"train\", \"test\"]\n",
    "test_dataset[\"kwargs\"][\"domain_list\"] = [domains[test_domain]]\n",
    "test_dataset[\"kwargs\"][\"augmentations\"] = None\n",
    "test_dataset[\"kwargs\"][\"transforms\"] = torchvision.transforms.Compose(\n",
    "    [init_object(torchvision.transforms, obj_config)\n",
    "        for obj_config in test_dataset[\"kwargs\"][\"transforms\"]]\n",
    ")\n",
    "test_dataset = init_object(src.datasets.PACS_dataset, test_dataset)\n",
    "test_loader = torch.utils.data.DataLoader(\n",
    "    test_dataset,\n",
    "    batch_size=batch_size,\n",
    "    shuffle=False,\n",
    "    pin_memory=True,\n",
    "    num_workers=4\n",
    ")"
   ]
  },
  {
   "cell_type": "code",
   "execution_count": 26,
   "metadata": {},
   "outputs": [
    {
     "data": {
      "text/plain": [
       "0.8857421875"
      ]
     },
     "execution_count": 26,
     "metadata": {},
     "output_type": "execute_result"
    }
   ],
   "source": [
    "model = torchvision.models.resnet50()\n",
    "model.fc = nn.Linear(2048, 7)\n",
    "checkpoint = torch.load(f\"saved/teacher_baseline/checkpoint_name_resnet50_test_domain_art_painting_best_1.pth\")\n",
    "model.to('cuda')\n",
    "model.load_state_dict(checkpoint[\"model\"])\n",
    "check(model, test_loader)"
   ]
  },
  {
   "cell_type": "code",
   "execution_count": 27,
   "metadata": {},
   "outputs": [
    {
     "data": {
      "text/plain": [
       "0.8857421875"
      ]
     },
     "execution_count": 27,
     "metadata": {},
     "output_type": "execute_result"
    }
   ],
   "source": [
    "model = torchvision.models.resnet50()\n",
    "model.fc = nn.Linear(2048, 7)\n",
    "checkpoint = torch.load(f\"saved/teacher_baseline/checkpoint_name_resnet50_test_domain_art_painting_best_2.pth\")\n",
    "model.to('cuda')\n",
    "model.load_state_dict(checkpoint[\"model\"])\n",
    "check(model, test_loader)"
   ]
  },
  {
   "cell_type": "code",
   "execution_count": 6,
   "metadata": {},
   "outputs": [
    {
     "name": "stdout",
     "output_type": "stream",
     "text": [
      "500 0.7431640625\n",
      "2\n",
      "499 0.7578125\n",
      "3\n",
      "498 0.7607421875\n",
      "4\n",
      "497 0.7587890625\n",
      "5\n",
      "496 0.763671875\n",
      "6\n"
     ]
    },
    {
     "ename": "KeyboardInterrupt",
     "evalue": "",
     "output_type": "error",
     "traceback": [
      "\u001b[0;31m---------------------------------------------------------------------------\u001b[0m",
      "\u001b[0;31mKeyboardInterrupt\u001b[0m                         Traceback (most recent call last)",
      "Cell \u001b[0;32mIn[6], line 12\u001b[0m\n\u001b[1;32m     10\u001b[0m \u001b[39melse\u001b[39;00m:\n\u001b[1;32m     11\u001b[0m     average_model\u001b[39m.\u001b[39mupdate_parameters(model)\n\u001b[0;32m---> 12\u001b[0m res[i] \u001b[39m=\u001b[39m check(average_model\u001b[39m.\u001b[39;49mmodel, test_loader)\n\u001b[1;32m     13\u001b[0m \u001b[39mprint\u001b[39m(i, res[i])\n",
      "Cell \u001b[0;32mIn[2], line 14\u001b[0m, in \u001b[0;36mcheck\u001b[0;34m(model, loader)\u001b[0m\n\u001b[1;32m     12\u001b[0m     ids \u001b[39m=\u001b[39m F\u001b[39m.\u001b[39msoftmax(logits, dim\u001b[39m=\u001b[39m\u001b[39m-\u001b[39m\u001b[39m1\u001b[39m)\u001b[39m.\u001b[39margmax(dim\u001b[39m=\u001b[39m\u001b[39m-\u001b[39m\u001b[39m1\u001b[39m)\n\u001b[1;32m     13\u001b[0m     batch_true \u001b[39m=\u001b[39m (ids \u001b[39m==\u001b[39m labels)\u001b[39m.\u001b[39msum()\n\u001b[0;32m---> 14\u001b[0m     accuracy \u001b[39m+\u001b[39m\u001b[39m=\u001b[39m batch_true\u001b[39m.\u001b[39;49mitem()\n\u001b[1;32m     16\u001b[0m \u001b[39mreturn\u001b[39;00m accuracy \u001b[39m/\u001b[39m \u001b[39mlen\u001b[39m(loader\u001b[39m.\u001b[39mdataset)\n",
      "\u001b[0;31mKeyboardInterrupt\u001b[0m: "
     ]
    }
   ],
   "source": [
    "res = {}\n",
    "for i in range(500, 0, -1):\n",
    "    model = torchvision.models.resnet18()\n",
    "    model.fc = nn.Linear(512, 7)\n",
    "    checkpoint = torch.load(f\"saved/distillation_baseline/checkpoint_name_resnet18_test_domain_art_painting_iter_{i * 100}.pth\")\n",
    "    model.to('cuda')\n",
    "    model.load_state_dict(checkpoint[\"model\"])\n",
    "    if i == 500:\n",
    "        average_model = AveragedModel(model)\n",
    "    else:\n",
    "        average_model.update_parameters(model)\n",
    "    res[i] = check(average_model.model, test_loader)\n",
    "    print(i, res[i])"
   ]
  },
  {
   "cell_type": "code",
   "execution_count": null,
   "metadata": {},
   "outputs": [],
   "source": []
  },
  {
   "cell_type": "code",
   "execution_count": null,
   "metadata": {},
   "outputs": [],
   "source": []
  }
 ],
 "metadata": {
  "kernelspec": {
   "display_name": "dl",
   "language": "python",
   "name": "python3"
  },
  "language_info": {
   "codemirror_mode": {
    "name": "ipython",
    "version": 3
   },
   "file_extension": ".py",
   "mimetype": "text/x-python",
   "name": "python",
   "nbconvert_exporter": "python",
   "pygments_lexer": "ipython3",
   "version": "3.10.9"
  },
  "orig_nbformat": 4
 },
 "nbformat": 4,
 "nbformat_minor": 2
}
